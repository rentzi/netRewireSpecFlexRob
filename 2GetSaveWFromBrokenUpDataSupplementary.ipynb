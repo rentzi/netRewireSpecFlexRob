{
 "cells": [
  {
   "cell_type": "code",
   "execution_count": 1,
   "metadata": {},
   "outputs": [],
   "source": [
    "import igraph as ig\n",
    "import numpy as np\n",
    "import matplotlib.pyplot as plt\n",
    "import os\n",
    "import swnMetrics as swn\n",
    "\n",
    "\n",
    "import helperFunc as hf"
   ]
  },
  {
   "cell_type": "markdown",
   "metadata": {},
   "source": [
    "## Functions"
   ]
  },
  {
   "cell_type": "code",
   "execution_count": 2,
   "metadata": {},
   "outputs": [],
   "source": [
    "def getModuAll(adjDict,taus,pRandRewires,repetitions = 100):\n",
    "    \n",
    "    lenTaus = len(taus)\n",
    "    lenPRand = len(pRandRewires)\n",
    "    Q = np.zeros((lenPRand,lenTaus,repetitions))  \n",
    "    \n",
    "    for rep in np.arange(repetitions):\n",
    "        for indT,tau in enumerate(taus):\n",
    "            for indP,p in enumerate(pRandRewires):\n",
    "        \n",
    "                #load the specific rewired matrix\n",
    "                A = adjDict[rep+1][(p, tau, 4000)][1]\n",
    "        \n",
    "                #construct it so that igraph can read it\n",
    "                #make it undirected\n",
    "                g = ig.Graph(directed=False)\n",
    "                #make it weighted\n",
    "                g.es[\"weight\"] = 1.0                \n",
    "                \n",
    "                g.add_vertices(len(A))\n",
    "                ix, jx = A.nonzero()\n",
    "                for i,j in zip(ix, jx):\n",
    "                    if i<j:\n",
    "                        g.add_edge(i, j, weight=A[i,j])\n",
    "            \n",
    "                #calculate the clusters and their modularity score    \n",
    "                clusters = g.community_multilevel(weights=g.es['weight'])\n",
    "                modularity_score = g.modularity(clusters.membership,weights=g.es['weight'])\n",
    "        \n",
    "                #store it in the matrix\n",
    "                Q[indP,indT,rep] = modularity_score\n",
    "                \n",
    "    return Q"
   ]
  },
  {
   "cell_type": "markdown",
   "metadata": {},
   "source": [
    "## Manipulate data to the the Q matrices and to save them -- LOGNORMAL"
   ]
  },
  {
   "cell_type": "code",
   "execution_count": 44,
   "metadata": {},
   "outputs": [],
   "source": [
    "#parameters tested\n",
    "rewirings = 4000\n",
    "pRand = [0,0.2]\n",
    "\n",
    "taus = [5.4,5.45,5.5,5.55,5.6,5.65,5.7,5.75,5.8,5.85,5.9,5.95,6]\n",
    "weightDist = 'lognormal'\n",
    "\n",
    "###### Load Adjacency matrices\n",
    "directoryALoad ='data/ArandA/500iterations/'\n",
    "\n",
    "#filePathALoad = directoryALoad + 'ArandA_tauTransition500_'+weightDist+'_'+str(rewirings)+'.pckl'\n",
    "filePathALoad = directoryALoad + 'ArandA_tauTransition250firstHalf_'+weightDist+'_'+str(rewirings)+'.pckl'\n",
    "filePathALoad2 = directoryALoad + 'ArandA_tauTransition250secondHalf_'+weightDist+'_'+str(rewirings)+'.pckl'\n",
    "\n",
    "ArandA = hf.loadVar(filePathALoad)\n",
    "ArandA2 = hf.loadVar(filePathALoad2)\n"
   ]
  },
  {
   "cell_type": "code",
   "execution_count": 46,
   "metadata": {},
   "outputs": [],
   "source": [
    "Q1 = getModuAll(ArandA,taus,pRand,250)\n",
    "Q2 = getModuAll(ArandA2,taus,pRand,250)\n"
   ]
  },
  {
   "cell_type": "code",
   "execution_count": 47,
   "metadata": {},
   "outputs": [
    {
     "data": {
      "text/plain": [
       "(2, 13, 250)"
      ]
     },
     "execution_count": 47,
     "metadata": {},
     "output_type": "execute_result"
    }
   ],
   "source": [
    "Q = np.concatenate((Q1, Q2), axis=2)\n",
    "Q2.shape"
   ]
  },
  {
   "cell_type": "code",
   "execution_count": 48,
   "metadata": {},
   "outputs": [],
   "source": [
    "\n",
    "directoryQSave ='data/ModularityValues/500iterations/'\n",
    "descr = 'QTransition_'\n",
    "filePathQSave = directoryQSave + descr+weightDist+'.pckl'\n",
    "hf.saveVarSimple((Q,taus), filePathQSave)"
   ]
  },
  {
   "cell_type": "markdown",
   "metadata": {},
   "source": [
    "## Normal -get the Q"
   ]
  },
  {
   "cell_type": "code",
   "execution_count": 3,
   "metadata": {},
   "outputs": [],
   "source": [
    "rewirings = 4000\n",
    "pRand = [0,0.2]\n",
    "taus = np.array([4.0,4.05,4.1,4.15,4.2,4.25,4.3])\n",
    "\n",
    "directoryLoad ='data/ArandA/500iterations/'\n",
    "weightDist = 'normal'\n",
    "\n",
    "filePathLoad = directoryLoad + 'ArandA_tauTransition_'+weightDist+'_'+str(rewirings)+'.pckl'\n",
    "\n",
    "ArandA = hf.loadVar(filePathLoad)"
   ]
  },
  {
   "cell_type": "code",
   "execution_count": 4,
   "metadata": {},
   "outputs": [],
   "source": [
    "#Calculate the modularity values\n",
    "Q = getModuAll(ArandA,taus,pRand,500)"
   ]
  },
  {
   "cell_type": "code",
   "execution_count": 5,
   "metadata": {},
   "outputs": [],
   "source": [
    "directoryQSave ='data/ModularityValues/500iterations/'\n",
    "descr = 'QTransition_'\n",
    "filePathQSave = directoryQSave + descr+weightDist+'.pckl'\n",
    "hf.saveVarSimple((Q,taus), filePathQSave)"
   ]
  },
  {
   "cell_type": "code",
   "execution_count": 6,
   "metadata": {},
   "outputs": [
    {
     "data": {
      "text/plain": [
       "(2, 7, 500)"
      ]
     },
     "execution_count": 6,
     "metadata": {},
     "output_type": "execute_result"
    }
   ],
   "source": [
    "Q.shape"
   ]
  },
  {
   "cell_type": "code",
   "execution_count": 8,
   "metadata": {},
   "outputs": [
    {
     "data": {
      "text/plain": [
       "array([[0.67874775, 0.61435013, 0.45723332, 0.33631418, 0.66121412,\n",
       "        0.13302398, 0.14351698],\n",
       "       [0.26630917, 0.65997187, 0.59883586, 0.3115136 , 0.2980781 ,\n",
       "        0.16075964, 0.4397877 ]])"
      ]
     },
     "execution_count": 8,
     "metadata": {},
     "output_type": "execute_result"
    }
   ],
   "source": [
    "Q[:,:,100]"
   ]
  },
  {
   "cell_type": "markdown",
   "metadata": {},
   "source": [
    "## Add the 0 variation to tau var AArand"
   ]
  },
  {
   "cell_type": "code",
   "execution_count": 44,
   "metadata": {},
   "outputs": [],
   "source": [
    "weightDist = 'normal'\n",
    "p =  0.2\n",
    "\n",
    "tauSpread = [0.1,0.2,0.3,0.4,0.5,0.6,0.7,0.8,0.9,1.,1.1,1.2,1.3,1.4,1.5]\n",
    "#tauCenter = [5.8]*len(tauSpread)\n",
    "#tauCenter = [5.5]*len(tauSpread)\n",
    "#tauCenter = [4.2]*len(tauSpread)\n",
    "tauCenter = [4.15]*len(tauSpread)\n",
    "\n",
    "#tauDistribution = ['normal']*len(tauSpread)\n",
    "tauDistribution = ['uniform']*len(tauSpread)\n",
    "\n",
    "tauTuples = list(zip(tauCenter,tauSpread,tauDistribution))\n",
    "\n",
    "directoryVarLoad ='data/ArandA/variableTau/'\n",
    "filePathVarLoad = directoryVarLoad + 'ArandA_tauTransition_'+weightDist+'_pRand'+str(p)+tauDistribution[0]+'.pckl'\n",
    "\n",
    "tauTarget = tauCenter[0]\n",
    "directoryLoad = 'data/ArandA/'\n",
    "rewirings = 4000\n",
    "filePathLoad = directoryLoad + 'ArandA_tauTransition_'+weightDist+'_'+str(rewirings)+'.pckl'\n"
   ]
  },
  {
   "cell_type": "code",
   "execution_count": 45,
   "metadata": {},
   "outputs": [],
   "source": [
    "ArandAVar = hf.loadVar(filePathVarLoad)\n",
    "\n",
    "ArandA = hf.loadVar(filePathLoad)"
   ]
  },
  {
   "cell_type": "code",
   "execution_count": 46,
   "metadata": {},
   "outputs": [],
   "source": [
    "tausIter = [tauCenter[0]]*4000\n",
    "for it in ArandA.keys():\n",
    "    kk = (ArandA[it][p,tauCenter[0],4000][0],ArandA[it][p,tauCenter[0],4000][1],tausIter)\n",
    "    ArandAVar[it][p,(tauCenter[0],0,tauDistribution[0]),4000] = kk\n"
   ]
  },
  {
   "cell_type": "code",
   "execution_count": 47,
   "metadata": {},
   "outputs": [
    {
     "data": {
      "text/plain": [
       "dict_keys([(0.2, (4.15, 0.1, 'uniform'), 4000), (0.2, (4.15, 0.2, 'uniform'), 4000), (0.2, (4.15, 0.3, 'uniform'), 4000), (0.2, (4.15, 0.4, 'uniform'), 4000), (0.2, (4.15, 0.5, 'uniform'), 4000), (0.2, (4.15, 0.6, 'uniform'), 4000), (0.2, (4.15, 0.7, 'uniform'), 4000), (0.2, (4.15, 0.8, 'uniform'), 4000), (0.2, (4.15, 0.9, 'uniform'), 4000), (0.2, (4.15, 1.0, 'uniform'), 4000), (0.2, (4.15, 1.1, 'uniform'), 4000), (0.2, (4.15, 1.2, 'uniform'), 4000), (0.2, (4.15, 1.3, 'uniform'), 4000), (0.2, (4.15, 1.4, 'uniform'), 4000), (0.2, (4.15, 1.5, 'uniform'), 4000), (0.2, (4.15, 0, 'uniform'), 4000)])"
      ]
     },
     "execution_count": 47,
     "metadata": {},
     "output_type": "execute_result"
    }
   ],
   "source": [
    "ArandAVar[2].keys()"
   ]
  },
  {
   "cell_type": "code",
   "execution_count": 48,
   "metadata": {},
   "outputs": [
    {
     "data": {
      "text/plain": [
       "dict_keys([(0, 3.5, 4000), (0.2, 3.5, 4000), (0, 3.55, 4000), (0.2, 3.55, 4000), (0, 3.6, 4000), (0.2, 3.6, 4000), (0, 3.65, 4000), (0.2, 3.65, 4000), (0, 3.7, 4000), (0.2, 3.7, 4000), (0, 3.75, 4000), (0.2, 3.75, 4000), (0, 3.8, 4000), (0.2, 3.8, 4000), (0, 3.85, 4000), (0.2, 3.85, 4000), (0, 3.9, 4000), (0.2, 3.9, 4000), (0, 3.95, 4000), (0.2, 3.95, 4000), (0, 4, 4000), (0.2, 4, 4000), (0, 4.05, 4000), (0.2, 4.05, 4000), (0, 4.1, 4000), (0.2, 4.1, 4000), (0, 4.15, 4000), (0.2, 4.15, 4000), (0, 4.2, 4000), (0.2, 4.2, 4000), (0, 4.25, 4000), (0.2, 4.25, 4000), (0, 4.3, 4000), (0.2, 4.3, 4000), (0, 4.35, 4000), (0.2, 4.35, 4000), (0, 4.4, 4000), (0.2, 4.4, 4000), (0, 4.45, 4000), (0.2, 4.45, 4000), (0, 4.5, 4000), (0.2, 4.5, 4000)])"
      ]
     },
     "execution_count": 48,
     "metadata": {},
     "output_type": "execute_result"
    }
   ],
   "source": [
    "ArandA[1].keys()"
   ]
  },
  {
   "cell_type": "code",
   "execution_count": 49,
   "metadata": {},
   "outputs": [],
   "source": [
    "hf.saveVarSimple(ArandAVar, filePathVarLoad)"
   ]
  },
  {
   "cell_type": "markdown",
   "metadata": {},
   "source": [
    "## Normal"
   ]
  },
  {
   "cell_type": "code",
   "execution_count": 15,
   "metadata": {},
   "outputs": [],
   "source": [
    "#parameters tested\n",
    "rewirings = 4000\n",
    "pRand = [0,0.2]\n",
    "\n",
    "taus1 = np.array([4.1,4.15,4.2,4.25])\n",
    "taus2 = np.array([4.0,4.05,4.3])\n",
    "\n",
    "weightDist = 'normal'\n",
    "\n",
    "###### Load Adjacency matrices\n",
    "directoryALoad ='data/ArandA/500iterations/'\n",
    "\n",
    "#filePathALoad = directoryALoad + 'ArandA_tauTransition500_'+weightDist+'_'+str(rewirings)+'.pckl'\n",
    "filePathALoad = directoryALoad + 'ArandA_tauTransition500_'+weightDist+'_'+str(rewirings)+'.pckl'\n",
    "filePathALoad2 = directoryALoad + 'ArandA_2tauTransition500_'+weightDist+'_'+str(rewirings)+'.pckl'\n",
    "\n",
    "ArandA = hf.loadVar(filePathALoad)\n",
    "ArandA2 = hf.loadVar(filePathALoad2)"
   ]
  },
  {
   "cell_type": "code",
   "execution_count": 30,
   "metadata": {},
   "outputs": [],
   "source": [
    "ArandA_all = {}\n",
    "for k in ArandA:\n",
    "    ArandA_all[k] = {}\n",
    "    ArandA_all[k].update(ArandA[k])\n",
    "    ArandA_all[k].update(ArandA2[k])"
   ]
  },
  {
   "cell_type": "code",
   "execution_count": 34,
   "metadata": {},
   "outputs": [],
   "source": [
    "directorySave ='data/ArandA/500iterations/'\n",
    "\n",
    "weightDist = 'normal'\n",
    "\n",
    "filePathSave = directorySave + 'ArandA_tauTransition_'+weightDist+'_'+str(rewirings)+'.pckl'\n",
    "hf.saveVarSimple(ArandA_all, filePathSave)"
   ]
  },
  {
   "cell_type": "markdown",
   "metadata": {},
   "source": [
    "## Miscellanious"
   ]
  },
  {
   "cell_type": "code",
   "execution_count": 3,
   "metadata": {},
   "outputs": [],
   "source": [
    "#taus = np.arange(3.5,4.55,0.05)\n",
    "#taus = np.array([4.1,4.15,4.2,4.25])\n",
    "#taus = np.arange(5.35,6.01,0.05)\n",
    "taus = np.array([4.0,4.05,4.3])\n",
    "#taus = np.arange(4.5,6.55,0.05)\n",
    "pRand = [0,0.2]"
   ]
  },
  {
   "cell_type": "code",
   "execution_count": 32,
   "metadata": {},
   "outputs": [],
   "source": [
    "#parameters tested\n",
    "rewirings = 4000\n",
    "pRand = [0,0.2]\n",
    "taus = [5.4,5.45,5.5,5.55,5.6,5.65,5.7,5.75,5.8,5.85,5.9,5.95,6]\n",
    "\n",
    "\n",
    "#weightDist = 'normal'\n",
    "weightDist = 'lognormal'\n",
    "\n",
    "###### Load Adjacency matrices\n",
    "directoryALoad ='data/ArandA/500iterations/'\n",
    "\n",
    "\n",
    "#filePathALoad = directoryALoad + 'ArandA_tauTransition500_'+weightDist+'_'+str(rewirings)+'.pckl'\n",
    "filePathALoad = directoryALoad + 'ArandA_tauTransition500firstHalf_'+weightDist+'_'+str(rewirings)+'.pckl'\n",
    "\n",
    "ArandA = hf.loadVar(filePathALoad)\n",
    "\n",
    "#######Path to save modularity values\n",
    "#directoryQSave ='data/ModularityValues/'\n",
    "#descr = 'QAll_'\n",
    "#descr = 'QTransition_'\n",
    "#filePathQSave = directoryQSave + descr+weightDist+'.pckl'"
   ]
  },
  {
   "cell_type": "code",
   "execution_count": null,
   "metadata": {},
   "outputs": [],
   "source": []
  },
  {
   "cell_type": "code",
   "execution_count": 34,
   "metadata": {},
   "outputs": [],
   "source": [
    "kk_actual = list(ArandA[1].keys())\n",
    "\n",
    "kk_correct = [(0, 5.35, 4000),(0.2, 5.35, 4000),(0, 5.4, 4000),(0.2, 5.4, 4000),(0, 5.45, 4000),(0.2, 5.45, 4000),(0, 5.5, 4000),\n",
    " (0.2, 5.5, 4000),(0, 5.55, 4000),(0.2, 5.55, 4000),(0, 5.6, 4000),(0.2, 5.6, 4000),(0, 5.65, 4000),(0.2, 5.65, 4000),\n",
    " (0, 5.7, 4000),(0.2, 5.7, 4000),(0, 5.75, 4000),(0.2, 5.75, 4000),(0, 5.8, 4000),(0.2, 5.8, 4000),(0, 5.85, 4000),\n",
    " (0.2, 5.85, 4000),(0, 5.9, 4000),(0.2, 5.9, 4000),(0, 5.95, 4000),(0.2, 5.95, 4000),(0, 6, 4000),(0.2, 6, 4000)]"
   ]
  },
  {
   "cell_type": "code",
   "execution_count": 35,
   "metadata": {},
   "outputs": [],
   "source": [
    "for it in ArandA.keys():\n",
    "    for ind,k in enumerate(list(ArandA[it].keys())):\n",
    "        if (np.abs(k[1] - kk_correct[ind][1])<0.01)&(np.abs(k[0] - kk_correct[ind][0])<0.0001): \n",
    "            ArandA[it][kk_correct[ind]] = ArandA[it][k]\n",
    "            del ArandA[it][k]\n",
    "        else:\n",
    "            print('there is something wrong')\n"
   ]
  },
  {
   "cell_type": "code",
   "execution_count": 36,
   "metadata": {},
   "outputs": [],
   "source": [
    "hf.saveVarSimple(ArandA, filePathALoad)"
   ]
  },
  {
   "cell_type": "code",
   "execution_count": 37,
   "metadata": {},
   "outputs": [
    {
     "name": "stdout",
     "output_type": "stream",
     "text": [
      "(0, 5.4, 4000)\n",
      "(0.2, 5.4, 4000)\n",
      "(0, 5.45, 4000)\n",
      "(0.2, 5.45, 4000)\n",
      "(0, 5.5, 4000)\n",
      "(0.2, 5.5, 4000)\n",
      "(0, 5.55, 4000)\n",
      "(0.2, 5.55, 4000)\n",
      "(0, 5.6, 4000)\n",
      "(0.2, 5.6, 4000)\n",
      "(0, 5.65, 4000)\n",
      "(0.2, 5.65, 4000)\n",
      "(0, 5.7, 4000)\n",
      "(0.2, 5.7, 4000)\n",
      "(0, 5.75, 4000)\n",
      "(0.2, 5.75, 4000)\n",
      "(0, 5.8, 4000)\n",
      "(0.2, 5.8, 4000)\n",
      "(0, 5.85, 4000)\n",
      "(0.2, 5.85, 4000)\n",
      "(0, 5.9, 4000)\n",
      "(0.2, 5.9, 4000)\n",
      "(0, 5.95, 4000)\n",
      "(0.2, 5.95, 4000)\n",
      "(0, 6, 4000)\n",
      "(0.2, 6, 4000)\n"
     ]
    }
   ],
   "source": [
    "for k in ArandA[1].keys():\n",
    "    print(k)"
   ]
  },
  {
   "cell_type": "markdown",
   "metadata": {},
   "source": [
    "## Miscellanious 2"
   ]
  },
  {
   "cell_type": "code",
   "execution_count": null,
   "metadata": {},
   "outputs": [],
   "source": [
    "list(ArandA[1].keys())[4:]"
   ]
  },
  {
   "cell_type": "code",
   "execution_count": null,
   "metadata": {},
   "outputs": [],
   "source": [
    "kk_correct = [(0, 3.6, 4000),(0.2, 3.6, 4000),(0, 3.65, 4000),(0.2, 3.65, 4000),(0, 3.7, 4000),(0.2, 3.7, 4000),(0, 3.75, 4000),(0.2, 3.75, 4000),\n",
    "(0, 3.8, 4000),(0.2, 3.8, 4000),(0, 3.85, 4000),(0.2, 3.85, 4000),(0, 3.9, 4000),(0.2, 3.9, 4000),(0, 3.95, 4000),\n",
    "(0.2, 3.95, 4000),(0, 4, 4000),(0.2, 4, 4000),(0, 4.05, 4000),(0.2, 4.05, 4000),(0, 4.1, 4000),(0.2, 4.1, 4000),\n",
    "(0, 4.15, 4000),(0.2, 4.15, 4000),(0, 4.2, 4000),(0.2, 4.2, 4000),(0, 4.25, 4000),(0.2, 4.25, 4000),(0, 4.3, 4000),\n",
    "(0.2, 4.3, 4000),(0, 4.35, 4000),(0.2, 4.35, 4000),(0, 4.4, 4000),(0.2, 4.4, 4000),(0, 4.45, 4000),(0.2, 4.45, 4000),\n",
    "(0, 4.5, 4000),(0.2, 4.5, 4000)]"
   ]
  },
  {
   "cell_type": "code",
   "execution_count": null,
   "metadata": {},
   "outputs": [],
   "source": [
    "kk_correct = [(0, 4.65, 4000),(0.2, 4.65, 4000),(0, 4.7, 4000),(0.2, 4.7, 4000),(0, 4.75, 4000),(0.2, 4.75, 4000),\n",
    "(0, 4.8, 4000),(0.2, 4.8, 4000),(0, 4.85, 4000),(0.2, 4.85, 4000),(0, 4.9, 4000),(0.2, 4.9, 4000),(0, 4.95, 4000),\n",
    "(0.2, 4.95, 4000),(0, 5, 4000),(0.2, 5, 4000),(0, 5.05, 4000),(0.2, 5.05, 4000),(0, 5.1, 4000),(0.2, 5.1, 4000),\n",
    "(0, 5.15, 4000),(0.2, 5.15, 4000),(0, 5.2, 4000),(0.2, 5.2, 4000),(0, 5.25, 4000),(0.2, 5.25, 4000),(0, 5.3, 4000),\n",
    "(0.2, 5.3, 4000),(0, 5.35, 4000),(0.2, 5.35, 4000),(0, 5.4, 4000),(0.2, 5.4, 4000),(0, 5.45, 4000),(0.2, 5.45, 4000),\n",
    "(0, 5.5, 4000),(0.2, 5.5, 4000),(0, 5.55, 4000),(0.2, 5.55, 4000),(0, 5.6, 4000),(0.2, 5.6, 4000),(0, 5.65, 4000),\n",
    "(0.2, 5.65, 4000),(0, 5.7, 4000),(0.2, 5.7, 4000),(0, 5.75, 4000),(0.2, 5.75, 4000),(0, 5.8, 4000),(0.2, 5.8, 4000),\n",
    "(0, 5.85, 4000), (0.2, 5.85, 4000),(0, 5.9, 4000),(0.2, 5.9, 4000),(0, 5.95, 4000),(0.2, 5.95, 4000),\n",
    "(0, 6, 4000),(0.2, 6, 4000),(0, 6.05, 4000),(0.2, 6.05, 4000),(0, 6.1, 4000),(0.2, 6.1, 4000),(0, 6.15, 4000),\n",
    "(0.2, 6.15, 4000),(0, 6.2, 4000),(0.2, 6.2, 4000),(0, 6.25, 4000),(0.2, 6.25, 4000),(0, 6.3, 4000),(0.2, 6.3, 4000),\n",
    "(0, 6.35, 4000),(0.2, 6.35, 4000),(0, 6.4, 4000),(0.2, 6.4, 4000),(0, 6.45, 4000),(0.2, 6.45, 4000),(0, 6.5, 4000),\n",
    "(0.2, 6.5, 4000)]"
   ]
  },
  {
   "cell_type": "code",
   "execution_count": null,
   "metadata": {},
   "outputs": [],
   "source": [
    "for it in ArandA.keys():\n",
    "    for ind,k in enumerate(list(ArandA[it].keys())[4:]):\n",
    "        if (np.abs(k[1] - kk_correct[ind][1])<0.01)&(np.abs(k[0] - kk_correct[ind][0])<0.0001): \n",
    "            ArandA[it][kk_correct[ind]] = ArandA[it][k]\n",
    "            del ArandA[it][k]\n",
    "        else:\n",
    "            print(k)"
   ]
  },
  {
   "cell_type": "code",
   "execution_count": null,
   "metadata": {},
   "outputs": [],
   "source": [
    "for k in ArandA[1].keys():\n",
    "    print(k)"
   ]
  },
  {
   "cell_type": "code",
   "execution_count": null,
   "metadata": {},
   "outputs": [],
   "source": [
    "hf.saveVarSimple(ArandA, filePathLoad)"
   ]
  },
  {
   "cell_type": "markdown",
   "metadata": {},
   "source": [
    "## Fix the tau approximations"
   ]
  },
  {
   "cell_type": "code",
   "execution_count": 72,
   "metadata": {},
   "outputs": [],
   "source": [
    "rewirings = 4000\n",
    "pRand = [0,0.2]\n",
    "  \n",
    "wD = 'lognormal'\n",
    "###### Load Adjacency matrices\n",
    "directoryALoad ='data/ArandA/'\n",
    "\n",
    "filePathLoad = directoryALoad + 'ArandA_'+wD+'_'+str(rewirings)+'.pckl'\n",
    "ArandA = hf.loadVar(filePathLoad)    "
   ]
  },
  {
   "cell_type": "code",
   "execution_count": 73,
   "metadata": {},
   "outputs": [
    {
     "data": {
      "text/plain": [
       "dict_keys([(0, 0, 4000), (0.2, 0, 4000), (0, 0.2, 4000), (0.2, 0.2, 4000), (0, 0.4, 4000), (0.2, 0.4, 4000), (0, 0.6, 4000), (0.2, 0.6, 4000), (0, 0.8, 4000), (0.2, 0.8, 4000), (0, 1, 4000), (0.2, 1, 4000), (0, 1.2, 4000), (0.2, 1.2, 4000), (0, 1.4, 4000), (0.2, 1.4, 4000), (0, 1.6, 4000), (0.2, 1.6, 4000), (0, 1.8, 4000), (0.2, 1.8, 4000), (0, 2, 4000), (0.2, 2, 4000), (0, 2.2, 4000), (0.2, 2.2, 4000), (0, 2.4, 4000), (0.2, 2.4, 4000), (0, 2.6, 4000), (0.2, 2.6, 4000), (0, 2.8, 4000), (0.2, 2.8, 4000), (0, 3, 4000), (0.2, 3, 4000), (0, 3.2, 4000), (0.2, 3.2, 4000), (0, 3.4, 4000), (0.2, 3.4, 4000), (0, 3.6, 4000), (0.2, 3.6, 4000), (0, 3.8, 4000), (0.2, 3.8, 4000), (0, 4, 4000), (0.2, 4, 4000), (0, 4.2, 4000), (0.2, 4.2, 4000), (0, 4.4, 4000), (0.2, 4.4, 4000), (0, 4.6, 4000), (0.2, 4.6, 4000), (0, 4.8, 4000), (0.2, 4.8, 4000), (0, 5, 4000), (0.2, 5, 4000), (0, 5.2, 4000), (0.2, 5.2, 4000), (0, 5.4, 4000), (0.2, 5.4, 4000), (0, 5.6, 4000), (0.2, 5.6, 4000), (0, 5.8, 4000), (0.2, 5.8, 4000), (0, 6, 4000), (0.2, 6, 4000), (0, 6.2, 4000), (0.2, 6.2, 4000), (0, 6.4, 4000), (0.2, 6.4, 4000), (0, 6.6, 4000), (0.2, 6.6, 4000), (0, 6.8, 4000), (0.2, 6.8, 4000), (0, 7, 4000), (0.2, 7, 4000), (0, 7.2, 4000), (0.2, 7.2, 4000), (0, 7.4, 4000), (0.2, 7.4, 4000), (0, 7.6, 4000), (0.2, 7.6, 4000), (0, 7.8, 4000), (0.2, 7.8, 4000), (0, 8, 4000), (0.2, 8, 4000)])"
      ]
     },
     "execution_count": 73,
     "metadata": {},
     "output_type": "execute_result"
    }
   ],
   "source": [
    "ArandA[1].keys()"
   ]
  },
  {
   "cell_type": "code",
   "execution_count": 67,
   "metadata": {},
   "outputs": [],
   "source": [
    "kk_correct = [(0, 0, 4000), (0.2, 0, 4000), (0, 0.2, 4000), (0.2, 0.2, 4000), (0, 0.4, 4000), (0.2, 0.4, 4000), \n",
    "           (0, 0.6, 4000), (0.2, 0.6, 4000), (0, 0.8, 4000), (0.2, 0.8, 4000), (0, 1, 4000), (0.2, 1, 4000), \n",
    "           (0, 1.2, 4000), (0.2, 1.2, 4000), (0, 1.4, 4000), (0.2, 1.4, 4000), (0, 1.6, 4000), (0.2, 1.6, 4000), \n",
    "           (0, 1.8, 4000), (0.2, 1.8, 4000), (0, 2, 4000), (0.2, 2, 4000), (0, 2.2, 4000), (0.2, 2.2, 4000), \n",
    "           (0, 2.4, 4000), (0.2, 2.4, 4000), (0, 2.6, 4000), (0.2, 2.6, 4000), (0, 2.8, 4000), (0.2, 2.8, 4000), \n",
    "           (0, 3, 4000), (0.2, 3, 4000), (0, 3.2, 4000), (0.2, 3.2, 4000), (0, 3.4, 4000), (0.2, 3.4, 4000), \n",
    "           (0, 3.6, 4000), (0.2, 3.6, 4000), (0, 3.8, 4000), (0.2, 3.8, 4000), (0, 4, 4000), (0.2, 4, 4000), \n",
    "           (0, 4.2, 4000), (0.2, 4.2, 4000), (0, 4.4, 4000), (0.2, 4.4, 4000), (0, 4.6, 4000), (0.2, 4.6, 4000), \n",
    "           (0, 4.8, 4000), (0.2, 4.8, 4000), (0, 5, 4000), (0.2, 5, 4000), (0, 5.2, 4000), (0.2, 5.2, 4000), \n",
    "           (0, 5.4, 4000), (0.2, 5.4, 4000), (0, 5.6, 4000), (0.2, 5.6, 4000), (0, 5.8, 4000), (0.2, 5.8, 4000),\n",
    "           (0, 6, 4000), (0.2, 6, 4000), (0, 6.2, 4000), (0.2, 6.2, 4000), (0, 6.4, 4000), (0.2, 6.4, 4000), \n",
    "           (0, 6.6, 4000), (0.2, 6.6, 4000), (0, 6.8, 4000), (0.2, 6.8, 4000), (0, 7, 4000), (0.2, 7, 4000), \n",
    "           (0, 7.2, 4000), (0.2, 7.2, 4000), (0, 7.4, 4000), (0.2, 7.4, 4000), (0, 7.6, 4000), (0.2, 7.6, 4000), \n",
    "           (0, 7.8, 4000), (0.2, 7.8, 4000), (0, 8, 4000), (0.2, 8, 4000)]"
   ]
  },
  {
   "cell_type": "code",
   "execution_count": 68,
   "metadata": {},
   "outputs": [],
   "source": [
    "ArandANew = {}\n",
    "for it in ArandA.keys():\n",
    "    ArandANew[it] = {}\n",
    "    for ind,k in enumerate(list(ArandA[it].keys())):\n",
    "        if (np.abs(k[1] - kk_correct[ind][1])<0.01)&(np.abs(k[0] - kk_correct[ind][0])<0.0001): \n",
    "            ArandANew[it][kk_correct[ind]] = ArandA[it][k]\n",
    "        else:\n",
    "            print(k)"
   ]
  },
  {
   "cell_type": "code",
   "execution_count": 69,
   "metadata": {},
   "outputs": [
    {
     "data": {
      "text/plain": [
       "dict_keys([(0, 0, 4000), (0.2, 0, 4000), (0, 0.2, 4000), (0.2, 0.2, 4000), (0, 0.4, 4000), (0.2, 0.4, 4000), (0, 0.6, 4000), (0.2, 0.6, 4000), (0, 0.8, 4000), (0.2, 0.8, 4000), (0, 1, 4000), (0.2, 1, 4000), (0, 1.2, 4000), (0.2, 1.2, 4000), (0, 1.4, 4000), (0.2, 1.4, 4000), (0, 1.6, 4000), (0.2, 1.6, 4000), (0, 1.8, 4000), (0.2, 1.8, 4000), (0, 2, 4000), (0.2, 2, 4000), (0, 2.2, 4000), (0.2, 2.2, 4000), (0, 2.4, 4000), (0.2, 2.4, 4000), (0, 2.6, 4000), (0.2, 2.6, 4000), (0, 2.8, 4000), (0.2, 2.8, 4000), (0, 3, 4000), (0.2, 3, 4000), (0, 3.2, 4000), (0.2, 3.2, 4000), (0, 3.4, 4000), (0.2, 3.4, 4000), (0, 3.6, 4000), (0.2, 3.6, 4000), (0, 3.8, 4000), (0.2, 3.8, 4000), (0, 4, 4000), (0.2, 4, 4000), (0, 4.2, 4000), (0.2, 4.2, 4000), (0, 4.4, 4000), (0.2, 4.4, 4000), (0, 4.6, 4000), (0.2, 4.6, 4000), (0, 4.8, 4000), (0.2, 4.8, 4000), (0, 5, 4000), (0.2, 5, 4000), (0, 5.2, 4000), (0.2, 5.2, 4000), (0, 5.4, 4000), (0.2, 5.4, 4000), (0, 5.6, 4000), (0.2, 5.6, 4000), (0, 5.8, 4000), (0.2, 5.8, 4000), (0, 6, 4000), (0.2, 6, 4000), (0, 6.2, 4000), (0.2, 6.2, 4000), (0, 6.4, 4000), (0.2, 6.4, 4000), (0, 6.6, 4000), (0.2, 6.6, 4000), (0, 6.8, 4000), (0.2, 6.8, 4000), (0, 7, 4000), (0.2, 7, 4000), (0, 7.2, 4000), (0.2, 7.2, 4000), (0, 7.4, 4000), (0.2, 7.4, 4000), (0, 7.6, 4000), (0.2, 7.6, 4000), (0, 7.8, 4000), (0.2, 7.8, 4000), (0, 8, 4000), (0.2, 8, 4000)])"
      ]
     },
     "execution_count": 69,
     "metadata": {},
     "output_type": "execute_result"
    }
   ],
   "source": [
    "ArandANew[1].keys()"
   ]
  },
  {
   "cell_type": "code",
   "execution_count": 70,
   "metadata": {},
   "outputs": [],
   "source": [
    "hf.saveVarSimple(ArandANew, filePathLoad)"
   ]
  }
 ],
 "metadata": {
  "kernelspec": {
   "display_name": "Python 3",
   "language": "python",
   "name": "python3"
  },
  "language_info": {
   "codemirror_mode": {
    "name": "ipython",
    "version": 3
   },
   "file_extension": ".py",
   "mimetype": "text/x-python",
   "name": "python",
   "nbconvert_exporter": "python",
   "pygments_lexer": "ipython3",
   "version": "3.6.1"
  }
 },
 "nbformat": 4,
 "nbformat_minor": 2
}
