{
 "cells": [
  {
   "cell_type": "code",
   "execution_count": 1,
   "metadata": {},
   "outputs": [],
   "source": [
    "import igraph as ig\n",
    "\n",
    "import numpy as np\n",
    "import os\n",
    "#Visualizations\n",
    "import matplotlib.pyplot as plt\n",
    "import random\n",
    "from datetime import datetime\n",
    "import itertools\n",
    "\n",
    "import swnHeatKernels as swnN \n",
    "from scipy import linalg\n",
    "import helperFunc as hf\n",
    "import swnMetrics as swn\n",
    "import centrality as ce\n",
    "import distributions as dstr\n",
    "\n",
    "from scipy.stats.stats import pearsonr \n",
    "from numpy.polynomial.polynomial import polyfit"
   ]
  },
  {
   "cell_type": "markdown",
   "metadata": {},
   "source": [
    "## Functions"
   ]
  },
  {
   "cell_type": "code",
   "execution_count": 2,
   "metadata": {},
   "outputs": [],
   "source": [
    "#calculates Qrandom and Q after rewirings\n",
    "def getQRandomQFinal(adjDict):\n",
    "    \n",
    "    repetitions = len(adjDict)\n",
    "    keyTuple = list(adjDict[1].keys())[0]\n",
    "    rewirings = keyTuple[2]\n",
    "    Q0 = np.zeros(repetitions)\n",
    "    Q1 = np.zeros(repetitions)\n",
    "    \n",
    "    for ind, k in enumerate(adjDict):\n",
    "        #load the specific rewired matrices -random and rewired\n",
    "        A0 = adjDict[k][keyTuple][0]\n",
    "        A1 = adjDict[k][keyTuple][1]\n",
    "        \n",
    "        #store them in the Q vectors\n",
    "        Q0[ind] = getModularityScoreMultilevel(A0)\n",
    "        Q1[ind] = getModularityScoreMultilevel(A1)\n",
    "        \n",
    "        \n",
    "    Q = {}\n",
    "    Q[0] = Q0\n",
    "    Q[rewirings] = Q1\n",
    "    \n",
    "    return Q"
   ]
  },
  {
   "cell_type": "code",
   "execution_count": 3,
   "metadata": {},
   "outputs": [],
   "source": [
    "def getModularityScoreMultilevel(A):\n",
    "    \n",
    "    #construct it so that igraph can read it, make it undirected\n",
    "    g = ig.Graph(directed=False)\n",
    "    #make it weighted\n",
    "    g.es[\"weight\"] = 1.0                \n",
    "                \n",
    "    g.add_vertices(len(A))\n",
    "    ix, jx = A.nonzero()\n",
    "    for i,j in zip(ix, jx):\n",
    "        if i<j:\n",
    "            g.add_edge(i, j, weight=A[i,j])\n",
    "            \n",
    "    #calculate the clusters and their modularity score    \n",
    "    clusters = g.community_multilevel(weights=g.es['weight'])\n",
    "    modularity_score = g.modularity(clusters.membership,weights=g.es['weight'])\n",
    "    \n",
    "    return modularity_score"
   ]
  },
  {
   "cell_type": "markdown",
   "metadata": {},
   "source": [
    "## Load A compute and save Q"
   ]
  },
  {
   "cell_type": "code",
   "execution_count": 4,
   "metadata": {},
   "outputs": [],
   "source": [
    "rewirings = 4000\n",
    "pRand = [0, 0.2]\n",
    "\n",
    "weightDist = ['normal','lognormal']\n",
    "directoryLoad ='data/ArandA/1000iterations/QrandQtau/'\n",
    "directoryQSave ='data/ModularityValues/1000iterations/QrandQtau/'\n",
    "description = ['Mod','Trans','Centra']"
   ]
  },
  {
   "cell_type": "code",
   "execution_count": 6,
   "metadata": {},
   "outputs": [
    {
     "name": "stdout",
     "output_type": "stream",
     "text": [
      "data/ModularityValues/1000iterations/QrandQtau/Mod.pckl\n",
      "data/ModularityValues/1000iterations/QrandQtau/Mod.pckl\n",
      "data/ModularityValues/1000iterations/QrandQtau/Mod.pckl\n",
      "data/ModularityValues/1000iterations/QrandQtau/Mod.pckl\n",
      "data/ModularityValues/1000iterations/QrandQtau/Trans.pckl\n",
      "data/ModularityValues/1000iterations/QrandQtau/Trans.pckl\n",
      "data/ModularityValues/1000iterations/QrandQtau/Trans.pckl\n",
      "data/ModularityValues/1000iterations/QrandQtau/Trans.pckl\n",
      "data/ModularityValues/1000iterations/QrandQtau/Centra.pckl\n",
      "data/ModularityValues/1000iterations/QrandQtau/Centra.pckl\n",
      "data/ModularityValues/1000iterations/QrandQtau/Centra.pckl\n",
      "data/ModularityValues/1000iterations/QrandQtau/Centra.pckl\n"
     ]
    }
   ],
   "source": [
    "\n",
    "dataA = {}; Q = {}; taus = {}\n",
    "for descr in description:\n",
    "    for wD in weightDist:\n",
    "        for indP, p in enumerate(pRand):       \n",
    "            #Load A\n",
    "            filePathLoad = directoryLoad + 'ArandA_tau'+descr+'_'+wD+'_p'+str(p)+'_rewir'+str(rewirings)+'.pckl'\n",
    "            dataA[(wD,p)] = hf.loadVar(filePathLoad)\n",
    "            taus[(wD,p)] = list(dataA[(wD,p)][1].keys())[0][1]\n",
    "            #calculate Q\n",
    "            Q[(wD,p)] = getQRandomQFinal(dataA[(wD,p)])\n",
    "\n",
    "            filePathQSave = directoryQSave + descr+'.pckl'\n",
    "            print(filePathQSave)\n",
    "            hf.saveVarSimple((Q,taus), filePathQSave)        \n"
   ]
  },
  {
   "cell_type": "code",
   "execution_count": null,
   "metadata": {},
   "outputs": [],
   "source": []
  }
 ],
 "metadata": {
  "kernelspec": {
   "display_name": "Python 3",
   "language": "python",
   "name": "python3"
  },
  "language_info": {
   "codemirror_mode": {
    "name": "ipython",
    "version": 3
   },
   "file_extension": ".py",
   "mimetype": "text/x-python",
   "name": "python",
   "nbconvert_exporter": "python",
   "pygments_lexer": "ipython3",
   "version": "3.6.1"
  }
 },
 "nbformat": 4,
 "nbformat_minor": 2
}
