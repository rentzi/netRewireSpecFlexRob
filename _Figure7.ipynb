{
 "cells": [
  {
   "cell_type": "code",
   "execution_count": 1,
   "metadata": {},
   "outputs": [],
   "source": [
    "import igraph as ig\n",
    "import numpy as np\n",
    "import matplotlib.pyplot as plt\n",
    "from scipy.stats.stats import pearsonr \n",
    "from numpy.polynomial.polynomial import polyfit\n",
    "from sklearn.utils import resample\n",
    "\n",
    "import helperFunc as hf"
   ]
  },
  {
   "cell_type": "markdown",
   "metadata": {},
   "source": [
    "# Functions"
   ]
  },
  {
   "cell_type": "code",
   "execution_count": 2,
   "metadata": {},
   "outputs": [],
   "source": [
    "def getCorrSig_BiasSlope(Q1,Q2):\n",
    "    \n",
    "    rho,p = pearsonr(Q1,Q2)\n",
    "    bias, slope = polyfit(Q1, Q2, 1)\n",
    "    \n",
    "    return (rho,p,bias,slope)"
   ]
  },
  {
   "cell_type": "code",
   "execution_count": 3,
   "metadata": {},
   "outputs": [],
   "source": [
    "def getCorrBootstrap(QAll,tauTupleList,p,rewiringsTuple =(4000,4000),samples=100,repetitions = 1000):\n",
    "    \n",
    "    weightDist = ['normal','lognormal']\n",
    "    rho = {}; pVal = {}; bias = {}; slope = {}; \n",
    "\n",
    "    for wD in weightDist:\n",
    "        lenVars = len(tauTupleList[(wD,p)])\n",
    "        rho[wD,p] = np.zeros((repetitions,lenVars)); pVal[wD,p] = np.zeros((repetitions,lenVars)) \n",
    "        bias[wD,p] = np.zeros((repetitions,lenVars)); slope[wD,p] = np.zeros((repetitions,lenVars))\n",
    "        for ind,tauTuple in enumerate(tauTupleList[(wD,p)]):\n",
    "        \n",
    "            Q0,Q1,Q2 = QAll[wD,p][p,tauTuple,rewiringsTuple]\n",
    "            for reps in np.arange(repetitions): \n",
    "                # prepare bootstrap sample\n",
    "                Q1Sample,Q2Sample = resample(Q1, Q2, replace=True, n_samples=samples)\n",
    "                rho[wD,p][reps,ind],pVal[wD,p][reps,ind],bias[wD,p][reps,ind],slope[wD,p][reps,ind] = getCorrSig_BiasSlope(Q1Sample,Q2Sample)        \n",
    "        \n",
    "    return rho,pVal,bias,slope"
   ]
  },
  {
   "cell_type": "markdown",
   "metadata": {},
   "source": [
    "## Load Qrandom , Q4000 and Q8000 and calculate correlation for p = 0.2 for 200 repetitions\n",
    "## Do bootstrap, selection with replacement"
   ]
  },
  {
   "cell_type": "code",
   "execution_count": 5,
   "metadata": {},
   "outputs": [],
   "source": [
    "directoryQLoad ='data/ModularityValues/2tauRewirings/'\n",
    "descr = 'Q0Q4000Q8000'\n",
    "filePathQLoad= directoryQLoad + descr+'.pckl'\n",
    "rewiringsTuple= (4000,4000)\n",
    "p=0.2\n",
    "(QAll,tauTupleList) = hf.loadVar(filePathQLoad) "
   ]
  },
  {
   "cell_type": "code",
   "execution_count": 6,
   "metadata": {},
   "outputs": [],
   "source": [
    "rho,pVal,bias,slope = getCorrBootstrap(QAll,tauTupleList,p,rewiringsTuple)"
   ]
  },
  {
   "cell_type": "code",
   "execution_count": 7,
   "metadata": {},
   "outputs": [
    {
     "data": {
      "image/png": "[encoded data removed]",
      "text/plain": [
       "<Figure size 432x432 with 1 Axes>"
      ]
     },
     "metadata": {},
     "output_type": "display_data"
    }
   ],
   "source": [
    "##CORRELATION\n",
    "\n",
    "####################to GET THE X-AXIS TAUDIFF##############\n",
    "w = 'normal'\n",
    "lengthTauDiff = len(tauTupleList[(w,p)])\n",
    "tauDiff = np.zeros(lengthTauDiff)\n",
    "for indT in np.arange(lengthTauDiff):\n",
    "    tauDiff[indT] = tauTupleList[(w,p)][indT][1] - tauTupleList[(w,p)][indT][0]\n",
    "#######################################\n",
    "weightDist = ['normal','lognormal'] \n",
    "\n",
    "ms = 8    \n",
    "LW = 2\n",
    "ylabel = 'correlation'\n",
    "xLabel = 'tau (away from transition)'\n",
    "colorsPlot = [ 'orange', 'green']\n",
    "shapePoint = ['-s','-v']\n",
    "shapePointNoLine = ['s','v']\n",
    "\n",
    "plt.rcParams['figure.figsize'] = [6, 6]\n",
    "fig = plt.figure(); \n",
    "ax = fig.add_subplot(1,1, 1)\n",
    "for ind,wD in enumerate(weightDist):\n",
    "\n",
    "    ttl = 'pRand = '+ str(p)\n",
    "    plt.title(ttl)\n",
    "    plt.xlabel(xLabel)\n",
    "    #plt.xticks(taus, taus)\n",
    "    #plt.ylim(ylimit)\n",
    "    #plt.ylim((0, 0.6))\n",
    "    plt.ylabel(ylabel)\n",
    "\n",
    "    rhoStd = np.std(rho[wD,p], axis=0)\n",
    "    rhoMean = np.mean(rho[wD,p], axis=0)\n",
    "    ax.errorbar(tauDiff, rhoMean, rhoStd, mfc=colorsPlot[ind], mec=colorsPlot[ind], marker=shapePointNoLine[ind],markersize=ms,\n",
    "                color=colorsPlot[ind],linewidth=LW, label=wD)       \n",
    "\n"
   ]
  },
  {
   "cell_type": "code",
   "execution_count": null,
   "metadata": {},
   "outputs": [],
   "source": []
  }
 ],
 "metadata": {
  "kernelspec": {
   "display_name": "Python 3",
   "language": "python",
   "name": "python3"
  },
  "language_info": {
   "codemirror_mode": {
    "name": "ipython",
    "version": 3
   },
   "file_extension": ".py",
   "mimetype": "text/x-python",
   "name": "python",
   "nbconvert_exporter": "python",
   "pygments_lexer": "ipython3",
   "version": "3.6.1"
  }
 },
 "nbformat": 4,
 "nbformat_minor": 2
}
