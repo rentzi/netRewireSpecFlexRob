{
 "cells": [
  {
   "cell_type": "code",
   "execution_count": 1,
   "metadata": {},
   "outputs": [],
   "source": [
    "import numpy as np\n",
    "import os\n",
    "#Visualizations\n",
    "import matplotlib.pyplot as plt\n",
    "import random\n",
    "from datetime import datetime\n",
    "import itertools\n",
    "\n",
    "import swnHeatKernels as swnN \n",
    "from scipy import linalg\n",
    "import helperFunc as hf\n",
    "import swnMetrics as swn\n",
    "import centrality as ce\n",
    "import distributions as dstr"
   ]
  },
  {
   "cell_type": "markdown",
   "metadata": {},
   "source": [
    "## Functions"
   ]
  },
  {
   "cell_type": "code",
   "execution_count": 2,
   "metadata": {},
   "outputs": [],
   "source": [
    "def getDegreeDistributions(Adict):\n",
    "    \n",
    "    listKeys = list(Adict[1].keys())\n",
    "    DegDistDict = {}\n",
    "    StrengthDistDict = {}\n",
    "    for kTuple in listKeys:\n",
    "        tempDeg = np.zeros(len(Adict.keys())*100)\n",
    "        tempStrength = np.zeros(len(Adict.keys())*100)\n",
    "        for rep in Adict:\n",
    "            A = Adict[rep][kTuple][1]\n",
    "            tempDeg[(rep-1)*100:rep*100] = np.sum(A > 0, axis=1, keepdims=False)\n",
    "            tempStrength[(rep-1)*100:rep*100] = np.sum(A, axis=1, keepdims=False)\n",
    "            \n",
    "        DegDistDict[kTuple] = tempDeg \n",
    "        StrengthDistDict[kTuple] = tempStrength    \n",
    "        \n",
    "    \n",
    "    return DegDistDict, StrengthDistDict"
   ]
  },
  {
   "cell_type": "markdown",
   "metadata": {},
   "source": [
    "## Get degree and strength outliers and save them"
   ]
  },
  {
   "cell_type": "code",
   "execution_count": 3,
   "metadata": {},
   "outputs": [],
   "source": [
    "#parameters tested\n",
    "factor=3\n",
    "\n",
    "rewirings = 4000\n",
    "pRand = [0, 0.2]\n",
    "\n",
    "taus = {}\n",
    "taus['normal'] = np.array([0,0.2,0.4,0.6,0.8,1,1.2,1.4,1.6,1.8,2,2.2,2.4,2.6,2.8,3,3.2,3.4,3.6,3.8,4,4.2,4.4,4.6,4.8,\n",
    "                          5,5.2,5.4,5.6,5.8,6,6.2,6.4,6.6,6.8,7,7.2,7.4,7.6,7.8,8])\n",
    "taus['lognormal'] = taus['normal']  \n",
    "  \n",
    "weightDist = ['normal','lognormal']\n",
    "###### Load Adjacency matrices\n",
    "directoryALoad ='data/ArandA/'\n"
   ]
  },
  {
   "cell_type": "code",
   "execution_count": 4,
   "metadata": {},
   "outputs": [],
   "source": [
    "##THE OUTLIERS\n",
    "dictPrpOutliersDeg = {}\n",
    "dictPrpOutliersStrength = {}\n",
    "\n",
    "#the derivatives of the above\n",
    "dictDerivDeg = {}\n",
    "dictDerivStrength = {}\n",
    "\n",
    "for wD in weightDist:\n",
    "    filePathLoad = directoryALoad + 'ArandA_'+wD+'_'+str(rewirings)+'.pckl'\n",
    "    Adict = hf.loadVar(filePathLoad)    \n",
    "    dictPrpOutliersDeg[wD], dictPrpOutliersStrength[wD] = dstr.getPercOutliersAll(taus[wD], pRand, rewirings, Adict,factor)\n"
   ]
  },
  {
   "cell_type": "code",
   "execution_count": 5,
   "metadata": {},
   "outputs": [],
   "source": [
    "filePathSave = 'data/degreesStrengths/outliers.pckl'\n",
    "hf.saveVarSimple((dictPrpOutliersDeg, dictPrpOutliersStrength, pRand,taus,factor), filePathSave)  "
   ]
  },
  {
   "cell_type": "markdown",
   "metadata": {},
   "source": [
    "## Get A, calculate degree and strength distributions, save them\n"
   ]
  },
  {
   "cell_type": "code",
   "execution_count": 6,
   "metadata": {},
   "outputs": [],
   "source": [
    "rewirings = 4000\n",
    "pRand = [0,0.2]\n",
    "\n",
    " \n",
    "weightDist = ['normal','lognormal']\n",
    "###### Load Adjacency matrices\n",
    "directoryALoad ='data/ArandA/1000iterations/QrandQtau/'"
   ]
  },
  {
   "cell_type": "code",
   "execution_count": 7,
   "metadata": {},
   "outputs": [],
   "source": [
    "p = 0.2\n",
    "modTau = {}; modTau['normal'] = 3; modTau['lognormal'] = 4.5\n",
    "centraTau = {}; centraTau['normal'] = 5; centraTau['lognormal'] = 7\n",
    "strDict= {}\n",
    "degDict= {}\n",
    "degMod = {}; degCentra = {}; strMod = {}; strCentra = {}\n",
    "for wD in weightDist:\n",
    "    \n",
    "    #for modular\n",
    "    filePathLoad = directoryALoad + 'ArandA_tauMod_'+wD+'_p'+str(p)+'_rewir'+str(rewirings)+'.pckl'\n",
    "    Adict = hf.loadVar(filePathLoad) \n",
    "    degDictMod,strDictMod = getDegreeDistributions(Adict)\n",
    "    degMod[wD] = degDictMod[(p,modTau[wD],4000)]\n",
    "    strMod[wD] = strDictMod[(p,modTau[wD],4000)]\n",
    "    del Adict\n",
    "    \n",
    "    #for centralized\n",
    "    filePathLoad = directoryALoad + 'ArandA_tauCentra_'+wD+'_p'+str(p)+'_rewir'+str(rewirings)+'.pckl'\n",
    "    Adict = hf.loadVar(filePathLoad) \n",
    "    degDictCentra,strDictCentra = getDegreeDistributions(Adict)\n",
    "    degCentra[wD] = degDictCentra[(p,centraTau[wD],4000)]\n",
    "    strCentra[wD] = strDictCentra[(p,centraTau[wD],4000)]    \n",
    "    del Adict\n",
    "    \n",
    "filePathSave = 'data/degreesStrengths/histDegStr.pckl'\n",
    "hf.saveVarSimple((degCentra,strCentra,centraTau,degMod,strMod,modTau), filePathSave)      "
   ]
  },
  {
   "cell_type": "code",
   "execution_count": null,
   "metadata": {},
   "outputs": [],
   "source": []
  }
 ],
 "metadata": {
  "kernelspec": {
   "display_name": "Python 3",
   "language": "python",
   "name": "python3"
  },
  "language_info": {
   "codemirror_mode": {
    "name": "ipython",
    "version": 3
   },
   "file_extension": ".py",
   "mimetype": "text/x-python",
   "name": "python",
   "nbconvert_exporter": "python",
   "pygments_lexer": "ipython3",
   "version": "3.6.1"
  }
 },
 "nbformat": 4,
 "nbformat_minor": 2
}
