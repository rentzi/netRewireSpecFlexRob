{
 "cells": [
  {
   "cell_type": "code",
   "execution_count": 1,
   "metadata": {},
   "outputs": [],
   "source": [
    "import igraph as ig\n",
    "\n",
    "import numpy as np\n",
    "import os\n",
    "#Visualizations\n",
    "import matplotlib.pyplot as plt\n",
    "import random\n",
    "from datetime import datetime\n",
    "import itertools\n",
    "\n",
    "import swnHeatKernels as swnN \n",
    "from scipy import linalg\n",
    "import helperFunc as hf\n",
    "import swnMetrics as swn\n",
    "import centrality as ce\n",
    "import distributions as dstr\n",
    "\n",
    "from scipy.stats.stats import pearsonr \n",
    "from numpy.polynomial.polynomial import polyfit\n",
    "from sklearn.utils import resample\n"
   ]
  },
  {
   "cell_type": "markdown",
   "metadata": {},
   "source": [
    "## Functions"
   ]
  },
  {
   "cell_type": "code",
   "execution_count": 2,
   "metadata": {},
   "outputs": [],
   "source": [
    "def getModularityScoreMultilevel(A):\n",
    "    \n",
    "    #construct it so that igraph can read it, make it undirected\n",
    "    g = ig.Graph(directed=False)\n",
    "    #make it weighted\n",
    "    g.es[\"weight\"] = 1.0                \n",
    "                \n",
    "    g.add_vertices(len(A))\n",
    "    ix, jx = A.nonzero()\n",
    "    for i,j in zip(ix, jx):\n",
    "        if i<j:\n",
    "            g.add_edge(i, j, weight=A[i,j])\n",
    "            \n",
    "    #calculate the clusters and their modularity score    \n",
    "    clusters = g.community_multilevel(weights=g.es['weight'])\n",
    "    modularity_score = g.modularity(clusters.membership,weights=g.es['weight'])\n",
    "    \n",
    "    return modularity_score"
   ]
  },
  {
   "cell_type": "code",
   "execution_count": 3,
   "metadata": {},
   "outputs": [],
   "source": [
    "#calculates Qrandom and Q after rewirings\n",
    "def getQRandomQ1Q2(adjDict):\n",
    "    \n",
    "    repetitions = len(adjDict)\n",
    "    keyTuple = list(adjDict[1].keys())\n",
    "    \n",
    "    Q = {}\n",
    "    for keyT in keyTuple:\n",
    "        Q0 = np.zeros(repetitions)\n",
    "        Q1 = np.zeros(repetitions)\n",
    "        Q2 = np.zeros(repetitions)\n",
    "        for ind, k in enumerate(adjDict):\n",
    "\n",
    "            #load the specific rewired matrices -random and rewired\n",
    "            A0 = adjDict[k][keyT][0]\n",
    "            A1 = adjDict[k][keyT][1]\n",
    "            A2 = adjDict[k][keyT][2]\n",
    "        \n",
    "            #store them in the Q vectors\n",
    "            Q0[ind] = getModularityScoreMultilevel(A0)\n",
    "            Q1[ind] = getModularityScoreMultilevel(A1)\n",
    "            Q2[ind] = getModularityScoreMultilevel(A2)\n",
    "        \n",
    "        Q[keyT] = (Q0,Q1,Q2)\n",
    "               \n",
    "    return Q"
   ]
  },
  {
   "cell_type": "markdown",
   "metadata": {},
   "source": [
    "## Calculate Qrandom , Q4000 and Q8000 from A and save it \n",
    "### This is for a few taus but for many repetitions 1000\n",
    "### we do it to get the scatter plots for typical examples of transition, modular and centralized regions"
   ]
  },
  {
   "cell_type": "code",
   "execution_count": 4,
   "metadata": {},
   "outputs": [],
   "source": [
    "weightDist = ['normal','lognormal']\n",
    "pRand =[0, 0.2]\n",
    "\n",
    "directoryLoad ='data/ArandA/1000iterations/QrandQ4000Q8000/'\n",
    "\n",
    "Q = {}\n",
    "for wD in weightDist:\n",
    "    for p in pRand:\n",
    "        filePathLoad = directoryLoad + 'A0A1A2' +wD+'_pRand'+str(p)+'.pckl'\n",
    "        ArandA1A2 = hf.loadVar(filePathLoad)\n",
    "        Q[wD,p] = getQRandomQ1Q2(ArandA1A2)\n",
    "\n"
   ]
  },
  {
   "cell_type": "code",
   "execution_count": 5,
   "metadata": {},
   "outputs": [],
   "source": [
    "directorySave = 'data/ModularityValues/1000iterations/QrandQ4000Q8000/'\n",
    "filePathQSave = directorySave + 'Q0Q1Q2.pckl'\n",
    "hf.saveVarSimple(Q, filePathQSave)  \n"
   ]
  },
  {
   "cell_type": "markdown",
   "metadata": {},
   "source": [
    "## Calculate Qrandom , Q4000 and Q8000 from A and save it - This is for many different taus fewer reperitions (100)"
   ]
  },
  {
   "cell_type": "code",
   "execution_count": 6,
   "metadata": {},
   "outputs": [],
   "source": [
    "\n",
    "rewiringsTuple= (4000,4000)\n",
    "weightDist = ['normal','lognormal']\n",
    "\n",
    "pRand = [0, 0.2]\n",
    "tauFirst = {}\n",
    "tauFirst['normal'] = [4.2, 4.15]\n",
    "tauFirst['lognormal'] = [5.8, 5.5]\n",
    "tauDiffSecond = np.array([-2.2,-2,-1.8,-1.6,-1.4,-1.2,-1,-0.8,-0.6,-0.4,-0.2,0,0.2,\n",
    "                          0.4,0.6,0.8,1,1.2,1.4,1.6,1.8,2,2.2])\n",
    "\n",
    "tauSecond = {}\n",
    "for indP,p in enumerate(pRand):\n",
    "    for wD in weightDist:\n",
    "        temp = tauFirst[wD][indP] + tauDiffSecond\n",
    "        tauSecond[(wD,p)] = np.around(temp,decimals=2)\n",
    "\n",
    "    \n",
    "tauTupleList = {}\n",
    "for indP,p in enumerate(pRand):\n",
    "    for wD in weightDist:\n",
    "        tauTupleList[(wD,p)] = []   \n",
    "        for ind in np.arange(len(tauSecond[(wD,p)])):\n",
    "            tauTupleList[(wD,p)].append((tauFirst[wD][indP],tauSecond[(wD,p)][ind]))\n",
    "\n",
    "\n",
    "repetitions = 100\n"
   ]
  },
  {
   "cell_type": "code",
   "execution_count": 7,
   "metadata": {},
   "outputs": [],
   "source": [
    "directoryLoad ='data/ArandA/2tauRewirings/'\n",
    "\n",
    "QAll = {}\n",
    "for wD in weightDist:\n",
    "    for p in pRand:\n",
    "        filePathLoad = directoryLoad + 'ArandA1A2_'+wD+'_pRand'+str(p)+'.pckl'\n",
    "        ArandA1A2 = hf.loadVar(filePathLoad)\n",
    "        QAll[(wD,p)] = getQRandomQ1Q2(ArandA1A2)\n",
    "        \n",
    "        del ArandA1A2\n",
    "        \n",
    "directoryQSave ='data/ModularityValues/2tauRewirings/'\n",
    "descr = 'Q0Q4000Q8000'\n",
    "\n",
    "filePathQSave = directoryQSave + descr+'.pckl'\n",
    "hf.saveVarSimple((QAll,tauTupleList), filePathQSave)     "
   ]
  }
 ],
 "metadata": {
  "kernelspec": {
   "display_name": "Python 3",
   "language": "python",
   "name": "python3"
  },
  "language_info": {
   "codemirror_mode": {
    "name": "ipython",
    "version": 3
   },
   "file_extension": ".py",
   "mimetype": "text/x-python",
   "name": "python",
   "nbconvert_exporter": "python",
   "pygments_lexer": "ipython3",
   "version": "3.6.1"
  }
 },
 "nbformat": 4,
 "nbformat_minor": 2
}
